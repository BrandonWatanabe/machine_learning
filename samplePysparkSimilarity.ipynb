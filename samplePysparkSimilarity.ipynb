{
 "cells": [
  {
   "cell_type": "code",
   "execution_count": 1,
   "metadata": {},
   "outputs": [],
   "source": [
    "# coding: utf-8\n",
    "\"\"\"\n",
    "pysparkで類似度を図るためのサンプル\n",
    "\"\"\"\n",
    "import numpy as np\n",
    "from pyspark import SQLContext, sql\n",
    "import pyspark\n",
    "from pyspark.sql import functions, Row\n",
    "from pyspark.mllib.linalg import DenseVector"
   ]
  },
  {
   "cell_type": "markdown",
   "metadata": {},
   "source": [
    "# 1. 初期化"
   ]
  },
  {
   "cell_type": "code",
   "execution_count": 2,
   "metadata": {},
   "outputs": [],
   "source": [
    "sc = pyspark.SparkContext('local[*]')\n",
    "sqlContext = sql.SQLContext(sc)"
   ]
  },
  {
   "cell_type": "markdown",
   "metadata": {},
   "source": [
    "# 2. サンプルの作成\n",
    "* label1~label5はバイナリ、label6~label10は連続値"
   ]
  },
  {
   "cell_type": "code",
   "execution_count": 3,
   "metadata": {},
   "outputs": [],
   "source": [
    "samples = [['aaa', 'a', 30, 1,2,3,4,5]  + np.random.randn(5).tolist(),\n",
    "    ['aaa', 'b', 30,2,1,3,4,1] + np.random.randn(5).tolist(),\n",
    "    ['bbb', 'a', 30,4,5,3,2,4] + np.random.randn(5).tolist(),\n",
    "    ['bbb', 'b', 30,1,2,4,3,1] + np.random.randn(5).tolist(),\n",
    "    ['ccc', 'a', 30,4,5,2,1,2] + np.random.randn(5).tolist(),\n",
    "    ['ccc', 'b', 30,1,2,5,4,1] + np.random.randn(5).tolist(),]\n",
    "colnames = [\n",
    "    'mc', 'mtc', 'area_cd',\n",
    "    'label1', 'label2', 'label3', 'label4', 'label5',\n",
    "    'label6', 'label7', 'label8', 'label9', 'label10'\n",
    "]\n",
    "colnames1 = [col + '_1' for col in colnames]\n",
    "colnames2 = [col + '_2' for col in colnames]"
   ]
  },
  {
   "cell_type": "markdown",
   "metadata": {},
   "source": [
    "# 3. Pyspark Dataframeの作成"
   ]
  },
  {
   "cell_type": "code",
   "execution_count": 4,
   "metadata": {},
   "outputs": [],
   "source": [
    "df1 = sqlContext.createDataFrame(sc.parallelize(samples), colnames1)\n",
    "df2 = sqlContext.createDataFrame(sc.parallelize(samples), colnames2)"
   ]
  },
  {
   "cell_type": "markdown",
   "metadata": {},
   "source": [
    "# 4. 類似度を図るために、組み合わせを作成"
   ]
  },
  {
   "cell_type": "code",
   "execution_count": 5,
   "metadata": {},
   "outputs": [],
   "source": [
    "joined_df = df1.join(df2, df1.area_cd_1 == df2.area_cd_2).filter(functions.concat(df1.mc_1, df1.mtc_1) != functions.concat(df2.mc_2, df2.mtc_2))"
   ]
  },
  {
   "cell_type": "markdown",
   "metadata": {},
   "source": [
    "* 結果の出力"
   ]
  },
  {
   "cell_type": "code",
   "execution_count": 6,
   "metadata": {},
   "outputs": [
    {
     "name": "stdout",
     "output_type": "stream",
     "text": [
      "+----+-----+---------+--------+--------+--------+--------+--------+------------------+------------------+-------------------+--------------------+------------------+----+-----+---------+--------+--------+--------+--------+--------+--------------------+--------------------+--------------------+-------------------+-------------------+\n",
      "|mc_1|mtc_1|area_cd_1|label1_1|label2_1|label3_1|label4_1|label5_1|          label6_1|          label7_1|           label8_1|            label9_1|         label10_1|mc_2|mtc_2|area_cd_2|label1_2|label2_2|label3_2|label4_2|label5_2|            label6_2|            label7_2|            label8_2|           label9_2|          label10_2|\n",
      "+----+-----+---------+--------+--------+--------+--------+--------+------------------+------------------+-------------------+--------------------+------------------+----+-----+---------+--------+--------+--------+--------+--------+--------------------+--------------------+--------------------+-------------------+-------------------+\n",
      "| aaa|    a|       30|       1|       2|       3|       4|       5|0.7597161263230525|0.3691610975250517|-0.5298628453419005|-0.15754620418174656|0.6493161715301379| aaa|    b|       30|       2|       1|       3|       4|       1|-0.11132591345212094|  1.2848605434098144|-0.26317615725755755|-0.6197480854094741|-0.3043246975928988|\n",
      "| aaa|    a|       30|       1|       2|       3|       4|       5|0.7597161263230525|0.3691610975250517|-0.5298628453419005|-0.15754620418174656|0.6493161715301379| bbb|    a|       30|       4|       5|       3|       2|       4|  0.5903506316649629|  0.3797305698455415| -0.0564704088765518| 0.4968625164133085|-0.3526589716048552|\n",
      "| aaa|    a|       30|       1|       2|       3|       4|       5|0.7597161263230525|0.3691610975250517|-0.5298628453419005|-0.15754620418174656|0.6493161715301379| bbb|    b|       30|       1|       2|       4|       3|       1| -0.5408232687473156|  1.2658773964862202|  0.8007409319304302| 1.2695514298269595|-0.6637144840937117|\n",
      "| aaa|    a|       30|       1|       2|       3|       4|       5|0.7597161263230525|0.3691610975250517|-0.5298628453419005|-0.15754620418174656|0.6493161715301379| ccc|    a|       30|       4|       5|       2|       1|       2| -0.3949413341554913|-0.06865992797126245| 0.20389537947571829| 0.5462389664762766|0.02480630252112386|\n",
      "| aaa|    a|       30|       1|       2|       3|       4|       5|0.7597161263230525|0.3691610975250517|-0.5298628453419005|-0.15754620418174656|0.6493161715301379| ccc|    b|       30|       1|       2|       5|       4|       1|0.046046158185330956| -0.6035631343481188| 0.48644175799118644| 0.0529840128064627|   1.88713786179256|\n",
      "+----+-----+---------+--------+--------+--------+--------+--------+------------------+------------------+-------------------+--------------------+------------------+----+-----+---------+--------+--------+--------+--------+--------+--------------------+--------------------+--------------------+-------------------+-------------------+\n",
      "only showing top 5 rows\n",
      "\n"
     ]
    }
   ],
   "source": [
    "joined_df.show(5)"
   ]
  },
  {
   "cell_type": "markdown",
   "metadata": {},
   "source": [
    "# 5.類似度の計算 "
   ]
  },
  {
   "cell_type": "code",
   "execution_count": 7,
   "metadata": {},
   "outputs": [],
   "source": [
    "def match_sim(row1 ,row2):\n",
    "    keys = row1.asDict().keys()\n",
    "    total = len(keys)\n",
    "    count = 0\n",
    "    for key in keys:\n",
    "        if row1[key] == row2[key]:\n",
    "            count += 1\n",
    "    return float(count)/total\n",
    "\n",
    "def cosine_sim(vec1 ,vec2):\n",
    "    dot = abs(vec1.dot(vec2))\n",
    "    n1 = vec1.norm(None)\n",
    "    n2 = vec1.norm(None)\n",
    "    return float(dot/(n1*n2))\n",
    "\n",
    "joined_rdd = joined_df.rdd.map(lambda x: (\n",
    "    Row(mc_1=x.mc_1, mtc_1=x.mtc_1, mc_2=x.mc_2, mtc_2=x.mtc_2),\n",
    "    Row(label1=x.label1_1, label2=x.label2_1, label3=x.label3_1, label4=x.label4_1, label5=x.label5_1),\n",
    "    DenseVector([x.label6_1,x.label7_1,x.label8_1,x.label9_1,x.label10_1]),\n",
    "    Row(label1=x.label1_2, label2=x.label2_2, label3=x.label3_2, label4=x.label4_2, label5=x.label5_2),\n",
    "    DenseVector([x.label6_2,x.label7_2,x.label8_2,x.label9_2,x.label10_2])\n",
    "                                         )) \\\n",
    ".map(lambda x: (x[0], match_sim(x[1], x[3]), cosine_sim(x[2], x[4]))) \\\n",
    ".map(lambda x: (x[0].mc_1, x[0].mtc_1, x[0].mc_2, x[0].mtc_2, x[1], x[2]))"
   ]
  },
  {
   "cell_type": "markdown",
   "metadata": {},
   "source": [
    "# 5. 結果の出力"
   ]
  },
  {
   "cell_type": "code",
   "execution_count": 8,
   "metadata": {},
   "outputs": [
    {
     "name": "stdout",
     "output_type": "stream",
     "text": [
      "+------+-------+------+-------+---------+--------------------+\n",
      "|tar_mc|tar_mtc|res_mc|res_mtc|match_sim|          cosine_sim|\n",
      "+------+-------+------+-------+---------+--------------------+\n",
      "|   aaa|      a|   aaa|      b|      0.4|  0.2979433262317515|\n",
      "|   aaa|      a|   bbb|      a|      0.2|  0.2161103600613806|\n",
      "|   aaa|      a|   bbb|      b|      0.4|  0.6933162039799152|\n",
      "|   aaa|      a|   ccc|      a|      0.0| 0.34941331375143353|\n",
      "|   aaa|      a|   ccc|      b|      0.6|  0.5354750033557132|\n",
      "|   aaa|      b|   aaa|      a|      0.4| 0.19428899651078324|\n",
      "|   aaa|      b|   bbb|      a|      0.2| 0.10702152405150611|\n",
      "|   aaa|      b|   bbb|      b|      0.2|  0.4033681950723296|\n",
      "|   aaa|      b|   ccc|      a|      0.0| 0.20097172584128625|\n",
      "|   aaa|      b|   ccc|      b|      0.4|  0.6861144738544892|\n",
      "|   bbb|      a|   aaa|      a|      0.2|  0.3590385377694502|\n",
      "|   bbb|      a|   aaa|      b|      0.2| 0.27266040008605663|\n",
      "|   bbb|      a|   bbb|      b|      0.0|  1.1313716028957246|\n",
      "|   bbb|      a|   ccc|      a|      0.4|0.009321106239696326|\n",
      "|   bbb|      a|   ccc|      b|      0.0|  1.0017633803368193|\n",
      "|   bbb|      b|   aaa|      a|      0.4|  0.2176828683879606|\n",
      "|   bbb|      b|   aaa|      b|      0.2|   0.194213765887726|\n",
      "|   bbb|      b|   bbb|      a|      0.0| 0.21381230488831227|\n",
      "|   bbb|      b|   ccc|      a|      0.0| 0.21074015342537053|\n",
      "|   bbb|      b|   ccc|      b|      0.6| 0.34536679942567616|\n",
      "+------+-------+------+-------+---------+--------------------+\n",
      "only showing top 20 rows\n",
      "\n"
     ]
    }
   ],
   "source": [
    "sqlContext.createDataFrame(joined_rdd, ['tar_mc', 'tar_mtc', 'res_mc', 'res_mtc', 'match_sim', 'cosine_sim']).show()"
   ]
  },
  {
   "cell_type": "code",
   "execution_count": null,
   "metadata": {
    "collapsed": true
   },
   "outputs": [],
   "source": []
  }
 ],
 "metadata": {
  "kernelspec": {
   "display_name": "Python 2",
   "language": "python",
   "name": "python2"
  },
  "language_info": {
   "codemirror_mode": {
    "name": "ipython",
    "version": 2
   },
   "file_extension": ".py",
   "mimetype": "text/x-python",
   "name": "python",
   "nbconvert_exporter": "python",
   "pygments_lexer": "ipython2",
   "version": "2.7.13"
  }
 },
 "nbformat": 4,
 "nbformat_minor": 2
}
