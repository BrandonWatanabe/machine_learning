{
 "cells": [
  {
   "cell_type": "code",
   "execution_count": null,
   "metadata": {
    "collapsed": true
   },
   "outputs": [],
   "source": [
    "# coding: utf-8\n",
    "\"\"\"\n",
    "スクレイピングするためのコード\n",
    "\"\"\"\n",
    "from urllib.request import urlopen\n",
    "from bs4 import BeautifulSoup\n",
    "import time\n",
    "import re"
   ]
  },
  {
   "cell_type": "markdown",
   "metadata": {},
   "source": [
    "## 定数"
   ]
  },
  {
   "cell_type": "code",
   "execution_count": null,
   "metadata": {
    "collapsed": true
   },
   "outputs": [],
   "source": [
    "base_url = 'xxx'\n",
    "pages = list(range(1, 13))\n",
    "pages = [12]"
   ]
  },
  {
   "cell_type": "markdown",
   "metadata": {},
   "source": [
    "## 関数"
   ]
  },
  {
   "cell_type": "code",
   "execution_count": null,
   "metadata": {
    "collapsed": true
   },
   "outputs": [],
   "source": [
    "def get_text(soup, select, class_):\n",
    "    ret = []\n",
    "    for a in soup.find_all(select, class_=class_):\n",
    "        ret.append(a.string)\n",
    "    return ret"
   ]
  },
  {
   "cell_type": "markdown",
   "metadata": {},
   "source": [
    "## スクレイピング"
   ]
  },
  {
   "cell_type": "code",
   "execution_count": null,
   "metadata": {
    "collapsed": true
   },
   "outputs": [],
   "source": [
    "tatemonos = []"
   ]
  },
  {
   "cell_type": "code",
   "execution_count": null,
   "metadata": {
    "collapsed": false
   },
   "outputs": [],
   "source": [
    "while len(pages) > 0:\n",
    "    page_rev = []\n",
    "    for page in pages:\n",
    "        try:\n",
    "            f = urlopen(base_url%str(page)).read()\n",
    "            soup = BeautifulSoup(f, \"html.parser\")\n",
    "            texts = get_text(soup, 'b', 'f_s110')\n",
    "            tatemonos.extend(texts)\n",
    "            time.sleep(1)\n",
    "        except:\n",
    "            page_rev.append(page)\n",
    "            print ('Imcomplete error, page', page)\n",
    "    pages = page_rev"
   ]
  },
  {
   "cell_type": "markdown",
   "metadata": {},
   "source": [
    "## 整形"
   ]
  },
  {
   "cell_type": "code",
   "execution_count": null,
   "metadata": {
    "collapsed": false
   },
   "outputs": [],
   "source": [
    "english_kana = []\n",
    "for tatemono in tatemonos:\n",
    "    if '\\u3000' in tatemono:\n",
    "        pass\n",
    "    else:\n",
    "        try:\n",
    "            english, kana = tatemono.split('(')[0], tatemono.split('(')[1]\n",
    "            english = english.strip().lower()\n",
    "            kana = kana.rstrip(')').rstrip('）')\n",
    "            english_kana.append([english, kana])\n",
    "        except:\n",
    "            print (tatemono)"
   ]
  },
  {
   "cell_type": "code",
   "execution_count": null,
   "metadata": {
    "collapsed": true
   },
   "outputs": [],
   "source": []
  }
 ],
 "metadata": {
  "kernelspec": {
   "display_name": "Python 3",
   "language": "python",
   "name": "python3"
  },
  "language_info": {
   "codemirror_mode": {
    "name": "ipython",
    "version": 3
   },
   "file_extension": ".py",
   "mimetype": "text/x-python",
   "name": "python",
   "nbconvert_exporter": "python",
   "pygments_lexer": "ipython3",
   "version": "3.5.0"
  }
 },
 "nbformat": 4,
 "nbformat_minor": 0
}
